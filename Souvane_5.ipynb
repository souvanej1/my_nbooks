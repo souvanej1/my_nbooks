{
 "cells": [
  {
   "cell_type": "code",
   "execution_count": null,
   "id": "25f12155-da73-4eb7-8fb4-27b9aa20e46f",
   "metadata": {},
   "outputs": [],
   "source": [
    "import pandas as pd"
   ]
  },
  {
   "cell_type": "code",
   "execution_count": null,
   "id": "6ef8ba5e-ed34-4798-9c6c-faeb30032e63",
   "metadata": {},
   "outputs": [],
   "source": [
    "fires_url = 'https://www.fs.usda.gov/rds/archive/products/RDS-2013-0009.4/RDS-2013-0009.4_Data_Format5_SQLite.zip'\n",
    "fires_file = 'RDS-2013-0009.4_Data_Format5_SQLite.zip'"
   ]
  },
  {
   "cell_type": "code",
   "execution_count": null,
   "id": "835c4e29-c4e7-478d-8e67-1132aaab850f",
   "metadata": {},
   "outputs": [],
   "source": [
    "import sqlite3\n",
    "import zipfile\n",
    "import requests\n",
    "import os"
   ]
  },
  {
   "cell_type": "code",
   "execution_count": null,
   "id": "613ac46f-f024-41a3-bb09-d20da40fd477",
   "metadata": {},
   "outputs": [],
   "source": [
    "download.file('https://www.fs.usda.gov/rds/archive/products/RDS-2013-0009.4/RDS-2013-0009.4_Data_Format5_SQLite.zip','RDS-2013-0009.4_Data_Format5_SQLite.zip')\n",
    "unzip('fire_url', files = 'RDS-2013-0009.4_Data_Format5_SQLite.zip' "
   ]
  },
  {
   "cell_type": "code",
   "execution_count": 18,
   "id": "d7eabfee-28c9-45d4-8b68-f537b2064211",
   "metadata": {},
   "outputs": [],
   "source": [
    "headers = { 'origin': 'https://www.fs.usda.gov'\n",
    "          , 'user-agent': 'Mozilla/5.0 (Windows NT 10.0; Win64; x64) AppleWebKit/537.36 (KHTML, like Gecko) Chrome/134.0.0.0 Safari/537.36'\n",
    "          }"
   ]
  },
  {
   "cell_type": "code",
   "execution_count": 20,
   "id": "ac5e7bb5-7907-42a7-bb6e-739fb9da2e25",
   "metadata": {},
   "outputs": [
    {
     "name": "stdout",
     "output_type": "stream",
     "text": [
      "Requesting file\n",
      "Total file size is 173,776,420 bytes\n",
      "Writing to file\n",
      "Percent done: 100.00%. Done.\n"
     ]
    }
   ],
   "source": [
    "print('Requesting file')\n",
    "\n",
    "with requests.get(fires_url, stream = True, headers = headers, timeout = 15) as response:\n",
    "    response.raise_for_status()\n",
    "    total_size = int(response.headers.get('content-length', 0))\n",
    "\n",
    "    print(f'Total file size is {total_size:,} bytes')\n",
    "    \n",
    "    chunk_sum  = 0\n",
    "    \n",
    "    print('Writing to file')\n",
    "    \n",
    "    with open(fires_file, 'wb') as f:\n",
    "        for chunk in response.iter_content(chunk_size = 4096):\n",
    "            chunk_sum += f.write(chunk)\n",
    "            download_pct = (chunk_sum / total_size) * 100\n",
    "            print(f'\\rPercent done: {download_pct:.2f}%', end = '')\n",
    "    \n",
    "    print(f'. Done.')"
   ]
  },
  {
   "cell_type": "code",
   "execution_count": 21,
   "id": "864bd7a1-72ca-46c7-a003-553d14c9be4c",
   "metadata": {},
   "outputs": [],
   "source": [
    "with zipfile.ZipFile(fires_file) as zip:\n",
    "    zip.extractall()"
   ]
  },
  {
   "cell_type": "code",
   "execution_count": 22,
   "id": "1ddd5e58-e0d5-4af3-9276-f3e0aa4701b1",
   "metadata": {},
   "outputs": [],
   "source": [
    "connect = sqlite3.connect('Data/FPA_FOD_20170508.sqlite')\n",
    "cursor  = connect.cursor()"
   ]
  },
  {
   "cell_type": "code",
   "execution_count": 23,
   "id": "4d2138f5-7aae-4818-9b1d-bbb2b4e7b4d2",
   "metadata": {},
   "outputs": [
    {
     "data": {
      "text/plain": [
       "[('spatial_ref_sys',),\n",
       " ('spatialite_history',),\n",
       " ('sqlite_sequence',),\n",
       " ('geometry_columns',),\n",
       " ('spatial_ref_sys_aux',),\n",
       " ('views_geometry_columns',),\n",
       " ('virts_geometry_columns',),\n",
       " ('geometry_columns_statistics',),\n",
       " ('views_geometry_columns_statistics',),\n",
       " ('virts_geometry_columns_statistics',),\n",
       " ('geometry_columns_field_infos',),\n",
       " ('views_geometry_columns_field_infos',),\n",
       " ('virts_geometry_columns_field_infos',),\n",
       " ('geometry_columns_time',),\n",
       " ('geometry_columns_auth',),\n",
       " ('views_geometry_columns_auth',),\n",
       " ('virts_geometry_columns_auth',),\n",
       " ('sql_statements_log',),\n",
       " ('SpatialIndex',),\n",
       " ('ElementaryGeometries',),\n",
       " ('KNN',),\n",
       " ('Fires',),\n",
       " ('idx_Fires_Shape',),\n",
       " ('idx_Fires_Shape_node',),\n",
       " ('idx_Fires_Shape_rowid',),\n",
       " ('idx_Fires_Shape_parent',),\n",
       " ('NWCG_UnitIDActive_20170109',)]"
      ]
     },
     "execution_count": 23,
     "metadata": {},
     "output_type": "execute_result"
    }
   ],
   "source": [
    "query = \"SELECT name FROM sqlite_master WHERE type='table';\"\n",
    "cursor.execute(query)\n",
    "cursor.fetchall()"
   ]
  },
  {
   "cell_type": "code",
   "execution_count": null,
   "id": "e306d0e7-7a25-4dd1-97a5-a2321c4f4975",
   "metadata": {},
   "outputs": [],
   "source": [
    "library(DBI)\n",
    "library(RSQLite)"
   ]
  },
  {
   "cell_type": "code",
   "execution_count": 28,
   "id": "960c0a85-7fd3-4f3d-a214-ba6d37c25a19",
   "metadata": {},
   "outputs": [
    {
     "ename": "NameError",
     "evalue": "name 'db_field' is not defined",
     "output_type": "error",
     "traceback": [
      "\u001b[1;31m---------------------------------------------------------------------------\u001b[0m",
      "\u001b[1;31mNameError\u001b[0m                                 Traceback (most recent call last)",
      "Cell \u001b[1;32mIn[28], line 1\u001b[0m\n\u001b[1;32m----> 1\u001b[0m db_field \u001b[38;5;241m<\u001b[39m\u001b[38;5;241m-\u001b[39m \u001b[38;5;124m'\u001b[39m\u001b[38;5;124mfires.sqlite\u001b[39m\u001b[38;5;124m'\u001b[39m\n\u001b[0;32m      2\u001b[0m con \u001b[38;5;241m<\u001b[39m\u001b[38;5;241m-\u001b[39m dbConnect(SQLite(), db_file)\n",
      "\u001b[1;31mNameError\u001b[0m: name 'db_field' is not defined"
     ]
    }
   ],
   "source": [
    "db_field <- 'fires.sqlite'\n",
    "con <- dbConnect(SQLite(), db_file)"
   ]
  },
  {
   "cell_type": "code",
   "execution_count": 30,
   "id": "29005f91-9655-4465-8f58-ae02687d939d",
   "metadata": {},
   "outputs": [
    {
     "ename": "NameError",
     "evalue": "name 'dbListTables' is not defined",
     "output_type": "error",
     "traceback": [
      "\u001b[1;31m---------------------------------------------------------------------------\u001b[0m",
      "\u001b[1;31mNameError\u001b[0m                                 Traceback (most recent call last)",
      "Cell \u001b[1;32mIn[30], line 1\u001b[0m\n\u001b[1;32m----> 1\u001b[0m dbListTables(con)\n",
      "\u001b[1;31mNameError\u001b[0m: name 'dbListTables' is not defined"
     ]
    }
   ],
   "source": [
    "dbListTables(con)"
   ]
  },
  {
   "cell_type": "code",
   "execution_count": 32,
   "id": "1c713fe4-c666-47bd-b498-bf43a7b653bb",
   "metadata": {},
   "outputs": [
    {
     "ename": "NameError",
     "evalue": "name 'dbListFields' is not defined",
     "output_type": "error",
     "traceback": [
      "\u001b[1;31m---------------------------------------------------------------------------\u001b[0m",
      "\u001b[1;31mNameError\u001b[0m                                 Traceback (most recent call last)",
      "Cell \u001b[1;32mIn[32], line 1\u001b[0m\n\u001b[1;32m----> 1\u001b[0m dbListFields(con, \u001b[38;5;124m'\u001b[39m\u001b[38;5;124mFires\u001b[39m\u001b[38;5;124m'\u001b[39m)\n",
      "\u001b[1;31mNameError\u001b[0m: name 'dbListFields' is not defined"
     ]
    }
   ],
   "source": [
    "dbListFields(con, 'Fires')"
   ]
  },
  {
   "cell_type": "code",
   "execution_count": 34,
   "id": "056a5fbe-94de-4964-83ff-f815c0e6d655",
   "metadata": {},
   "outputs": [
    {
     "ename": "NameError",
     "evalue": "name 'dbDisconnect' is not defined",
     "output_type": "error",
     "traceback": [
      "\u001b[1;31m---------------------------------------------------------------------------\u001b[0m",
      "\u001b[1;31mNameError\u001b[0m                                 Traceback (most recent call last)",
      "Cell \u001b[1;32mIn[34], line 1\u001b[0m\n\u001b[1;32m----> 1\u001b[0m dbDisconnect(con)\n",
      "\u001b[1;31mNameError\u001b[0m: name 'dbDisconnect' is not defined"
     ]
    }
   ],
   "source": [
    "dbDisconnect(con)"
   ]
  },
  {
   "cell_type": "code",
   "execution_count": 36,
   "id": "a3d03afb-9369-4613-b90d-00e38ea3ef37",
   "metadata": {},
   "outputs": [
    {
     "ename": "SyntaxError",
     "evalue": "invalid syntax (791294511.py, line 1)",
     "output_type": "error",
     "traceback": [
      "\u001b[1;36m  Cell \u001b[1;32mIn[36], line 1\u001b[1;36m\u001b[0m\n\u001b[1;33m    Select columns\u001b[0m\n\u001b[1;37m           ^\u001b[0m\n\u001b[1;31mSyntaxError\u001b[0m\u001b[1;31m:\u001b[0m invalid syntax\n"
     ]
    }
   ],
   "source": [
    "SELECT columns\n",
    "FROM table \n",
    "WHERE boolean_expression\n",
    "ORDER BY column ASC|DESC"
   ]
  },
  {
   "cell_type": "code",
   "execution_count": null,
   "id": "e4b35e07-a54c-4b66-95f7-1d865628ccdb",
   "metadata": {},
   "outputs": [],
   "source": [
    "SELECT discovery_date\n",
    "FROM fires\n",
    "ORDER BY latitude, longitude\n"
   ]
  },
  {
   "cell_type": "code",
   "execution_count": 38,
   "id": "006c0fbe-dd00-4b0a-b3bd-17b46e5db4b8",
   "metadata": {},
   "outputs": [
    {
     "ename": "SyntaxError",
     "evalue": "invalid syntax (1319626472.py, line 1)",
     "output_type": "error",
     "traceback": [
      "\u001b[1;36m  Cell \u001b[1;32mIn[38], line 1\u001b[1;36m\u001b[0m\n\u001b[1;33m    SELECT * FROM Fires\u001b[0m\n\u001b[1;37m                  ^\u001b[0m\n\u001b[1;31mSyntaxError\u001b[0m\u001b[1;31m:\u001b[0m invalid syntax\n"
     ]
    }
   ],
   "source": [
    "SELECT * FROM fires"
   ]
  },
  {
   "cell_type": "code",
   "execution_count": 40,
   "id": "3035b939-2601-4cf4-95dd-3837a9809041",
   "metadata": {},
   "outputs": [
    {
     "ename": "SyntaxError",
     "evalue": "invalid syntax (1446100530.py, line 1)",
     "output_type": "error",
     "traceback": [
      "\u001b[1;36m  Cell \u001b[1;32mIn[40], line 1\u001b[1;36m\u001b[0m\n\u001b[1;33m    SELECT fire_name, fire_state, fire_size\u001b[0m\n\u001b[1;37m           ^\u001b[0m\n\u001b[1;31mSyntaxError\u001b[0m\u001b[1;31m:\u001b[0m invalid syntax\n"
     ]
    }
   ],
   "source": [
    "SELECT fire_name, fire_state, fire_size\n",
    "FROM Fires"
   ]
  },
  {
   "cell_type": "code",
   "execution_count": 42,
   "id": "fec83633-e7b1-454a-a3d8-2099e1801229",
   "metadata": {},
   "outputs": [
    {
     "ename": "SyntaxError",
     "evalue": "invalid syntax (4085481607.py, line 1)",
     "output_type": "error",
     "traceback": [
      "\u001b[1;36m  Cell \u001b[1;32mIn[42], line 1\u001b[1;36m\u001b[0m\n\u001b[1;33m    SELECT fire_name, fire_state, fire_size\u001b[0m\n\u001b[1;37m           ^\u001b[0m\n\u001b[1;31mSyntaxError\u001b[0m\u001b[1;31m:\u001b[0m invalid syntax\n"
     ]
    }
   ],
   "source": [
    "SELECT fire_name, fire_state, fire_size\n",
    "FROM Fires\n",
    "WHERE fire_size > 100"
   ]
  },
  {
   "cell_type": "code",
   "execution_count": 44,
   "id": "dadc7101-e546-4db6-bb19-8c2f17d93e28",
   "metadata": {},
   "outputs": [
    {
     "ename": "SyntaxError",
     "evalue": "invalid syntax (4228512335.py, line 1)",
     "output_type": "error",
     "traceback": [
      "\u001b[1;36m  Cell \u001b[1;32mIn[44], line 1\u001b[1;36m\u001b[0m\n\u001b[1;33m    SELECT fire_name, fire_state, fire_size\u001b[0m\n\u001b[1;37m           ^\u001b[0m\n\u001b[1;31mSyntaxError\u001b[0m\u001b[1;31m:\u001b[0m invalid syntax\n"
     ]
    }
   ],
   "source": [
    "SELECT fire_name, fire_state, fire_size\n",
    "FROM Fires\n",
    "ORDER BY fire_size DESC"
   ]
  },
  {
   "cell_type": "code",
   "execution_count": 46,
   "id": "c3ba02a5-ca3d-4c22-a820-b2684f20dec4",
   "metadata": {},
   "outputs": [
    {
     "data": {
      "text/plain": [
       "<sqlite3.Cursor at 0x25678f0a640>"
      ]
     },
     "execution_count": 46,
     "metadata": {},
     "output_type": "execute_result"
    }
   ],
   "source": [
    "query_sql <= \"\n",
    "    SELECT fire_name, fire_size, state, fire_year, \n",
    "        DATETIME(discovery_date) AS discovery_date \n",
    "    FROM Fires\n",
    "\"\n",
    "cursor.execute(query)"
   ]
  },
  {
   "cell_type": "code",
   "execution_count": 53,
   "id": "c8cfdd00-9225-4f61-bda9-0d41fda5d311",
   "metadata": {},
   "outputs": [
    {
     "ename": "NameError",
     "evalue": "name 'dbSendQuery' is not defined",
     "output_type": "error",
     "traceback": [
      "\u001b[1;31m---------------------------------------------------------------------------\u001b[0m",
      "\u001b[1;31mNameError\u001b[0m                                 Traceback (most recent call last)",
      "Cell \u001b[1;32mIn[53], line 1\u001b[0m\n\u001b[1;32m----> 1\u001b[0m response \u001b[38;5;241m<\u001b[39m\u001b[38;5;241m-\u001b[39m dbSendQuery(con, fires_sql)\n\u001b[0;32m      2\u001b[0m fires \u001b[38;5;241m<\u001b[39m\u001b[38;5;241m-\u001b[39m as_tibble(dbFetch(response))\n\u001b[0;32m      3\u001b[0m fires\n",
      "\u001b[1;31mNameError\u001b[0m: name 'dbSendQuery' is not defined"
     ]
    }
   ],
   "source": [
    "response <- dbSendQuery(con, fires_sql)\n",
    "fires <- as_tibble(dbFetch(response))\n",
    "fires"
   ]
  },
  {
   "cell_type": "code",
   "execution_count": null,
   "id": "9e53a7aa-c151-4b4a-b867-ab9289f28ca1",
   "metadata": {},
   "outputs": [],
   "source": [
    "dbClearResult(response)"
   ]
  },
  {
   "cell_type": "code",
   "execution_count": 50,
   "id": "f11e6fde-4f1c-4a93-b577-7871815e6f6e",
   "metadata": {},
   "outputs": [],
   "source": [
    "cursor.close()\n",
    "connect.close()"
   ]
  },
  {
   "cell_type": "code",
   "execution_count": null,
   "id": "26e48755-118a-445b-82f6-eadec4b0a5c2",
   "metadata": {},
   "outputs": [],
   "source": []
  }
 ],
 "metadata": {
  "kernelspec": {
   "display_name": "Python [conda env:base] *",
   "language": "python",
   "name": "conda-base-py"
  },
  "language_info": {
   "codemirror_mode": {
    "name": "ipython",
    "version": 3
   },
   "file_extension": ".py",
   "mimetype": "text/x-python",
   "name": "python",
   "nbconvert_exporter": "python",
   "pygments_lexer": "ipython3",
   "version": "3.12.7"
  }
 },
 "nbformat": 4,
 "nbformat_minor": 5
}
