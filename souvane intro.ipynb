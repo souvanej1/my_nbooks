{
 "cells": [
  {
   "cell_type": "markdown",
   "id": "21a6d8f7-416d-44af-8e63-3f01425e7e0e",
   "metadata": {},
   "source": [
    "# souvane_intro"
   ]
  },
  {
   "cell_type": "markdown",
   "id": "441276dc-116b-4a05-b0d3-61f8af9715ce",
   "metadata": {},
   "source": [
    "## Janelle Souvane"
   ]
  },
  {
   "cell_type": "code",
   "execution_count": 27,
   "id": "0a4bcdee-3f7a-4f38-9729-285750fc3b43",
   "metadata": {
    "scrolled": true
   },
   "outputs": [
    {
     "name": "stdout",
     "output_type": "stream",
     "text": [
      "[38, 38, 39, 40, 41, 43, 45, 46, 46, 49, 50, 50, 53, 54, 56, 58, 59, 66, 67, 70, 70, 71, 73, 75, 76, 76, 77, 82, 84, 85, 88, 88, 88, 89, 92, 94, 95, 97, 97, 99]\n"
     ]
    }
   ],
   "source": [
    "import random \n",
    "nums=[random.randint(30,100) for _ in range(40)]\n",
    "nums.sort()\n",
    "print(nums)\n",
    "\n"
   ]
  },
  {
   "cell_type": "code",
   "execution_count": 52,
   "id": "90dfd247-c78d-473e-a575-845fb74e28d5",
   "metadata": {},
   "outputs": [
    {
     "name": "stdout",
     "output_type": "stream",
     "text": [
      "38 38 39 40 41 43 45 46 46 49 50 50 53 54 56 58 59 66 67 70 70 71 73 75 76 76 77 82 84 85 88 88 88 89 92 94 95 97 97 99 "
     ]
    }
   ],
   "source": [
    "nums.sort()\n",
    "for num in nums:\n",
    "    print(num, end = ' ')"
   ]
  },
  {
   "cell_type": "markdown",
   "id": "162aa1b2-4d01-47e2-be40-708a42f11512",
   "metadata": {},
   "source": [
    "## The Sample Mean\n",
    " ''' The Sample Mean is calculated by:\n",
    " Adding up all the values in the Sample (\\sum,x_i).\n",
    " Divide the sum by the num of values in the sample (n).'''"
   ]
  },
  {
   "cell_type": "markdown",
   "id": "f236999e-d441-4965-a6f0-5d8de31d3b01",
   "metadata": {},
   "source": [
    "$$\\overline{x} = \\frac{\\sum x_i}{n}$$"
   ]
  },
  {
   "cell_type": "markdown",
   "id": "f7752428-8ebc-4bda-b8b9-f2d27bc7bb89",
   "metadata": {
    "scrolled": true
   },
   "source": [
    "sampleMean = sum(nums) / len(nums)\n",
    "print(f'The sample mean is {sampleMean:.2f}')"
   ]
  },
  {
   "cell_type": "markdown",
   "id": "fb8b91cb-2c24-434d-b55a-5c1501bf42a7",
   "metadata": {},
   "source": [
    "## The Median, click the [link](https://www.geeksforgeeks.org/median/) for median in depth explaination"
   ]
  },
  {
   "cell_type": "code",
   "execution_count": 83,
   "id": "fd451104-57b8-4bcd-9035-882bd233ddfc",
   "metadata": {},
   "outputs": [
    {
     "name": "stdout",
     "output_type": "stream",
     "text": [
      "The median is 70.0\n"
     ]
    }
   ],
   "source": [
    "import statistics\n",
    "median = statistics.median(nums)\n",
    "print(f'The median is {median:.1f}')"
   ]
  }
 ],
 "metadata": {
  "kernelspec": {
   "display_name": "Python [conda env:base] *",
   "language": "python",
   "name": "conda-base-py"
  },
  "language_info": {
   "codemirror_mode": {
    "name": "ipython",
    "version": 3
   },
   "file_extension": ".py",
   "mimetype": "text/x-python",
   "name": "python",
   "nbconvert_exporter": "python",
   "pygments_lexer": "ipython3",
   "version": "3.12.7"
  }
 },
 "nbformat": 4,
 "nbformat_minor": 5
}
