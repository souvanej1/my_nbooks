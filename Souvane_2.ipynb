{
 "cells": [
  {
   "cell_type": "markdown",
   "id": "d59e3941-a5b6-4047-815d-b0b33c1c2bff",
   "metadata": {},
   "source": [
    "# Chapter 2 Assignment"
   ]
  },
  {
   "cell_type": "markdown",
   "id": "e9dacf8d-b78a-47de-8413-bc748c0c3c07",
   "metadata": {},
   "source": [
    "# Janelle Souvane"
   ]
  },
  {
   "cell_type": "code",
   "execution_count": 3,
   "id": "782aa0e7-1572-41b8-bb2a-7bde72863621",
   "metadata": {},
   "outputs": [
    {
     "name": "stdout",
     "output_type": "stream",
     "text": [
      "Requirement already satisfied: pandas in c:\\users\\janel\\anaconda3\\lib\\site-packages (2.2.2)\n",
      "Requirement already satisfied: numpy>=1.26.0 in c:\\users\\janel\\anaconda3\\lib\\site-packages (from pandas) (1.26.4)\n",
      "Requirement already satisfied: python-dateutil>=2.8.2 in c:\\users\\janel\\anaconda3\\lib\\site-packages (from pandas) (2.9.0.post0)\n",
      "Requirement already satisfied: pytz>=2020.1 in c:\\users\\janel\\anaconda3\\lib\\site-packages (from pandas) (2024.1)\n",
      "Requirement already satisfied: tzdata>=2022.7 in c:\\users\\janel\\anaconda3\\lib\\site-packages (from pandas) (2023.3)\n",
      "Requirement already satisfied: six>=1.5 in c:\\users\\janel\\anaconda3\\lib\\site-packages (from python-dateutil>=2.8.2->pandas) (1.16.0)\n"
     ]
    }
   ],
   "source": [
    "!pip install pandas\n",
    "import pandas as pd"
   ]
  },
  {
   "cell_type": "code",
   "execution_count": 5,
   "id": "03866c43-237b-40a7-9845-539d5262cd6d",
   "metadata": {},
   "outputs": [
    {
     "data": {
      "text/html": [
       "<div>\n",
       "<style scoped>\n",
       "    .dataframe tbody tr th:only-of-type {\n",
       "        vertical-align: middle;\n",
       "    }\n",
       "\n",
       "    .dataframe tbody tr th {\n",
       "        vertical-align: top;\n",
       "    }\n",
       "\n",
       "    .dataframe thead th {\n",
       "        text-align: right;\n",
       "    }\n",
       "</style>\n",
       "<table border=\"1\" class=\"dataframe\">\n",
       "  <thead>\n",
       "    <tr style=\"text-align: right;\">\n",
       "      <th></th>\n",
       "      <th>Brand</th>\n",
       "      <th>Variety</th>\n",
       "      <th>Style</th>\n",
       "      <th>Country</th>\n",
       "      <th>Stars</th>\n",
       "    </tr>\n",
       "  </thead>\n",
       "  <tbody>\n",
       "    <tr>\n",
       "      <th>0</th>\n",
       "      <td>New Touch</td>\n",
       "      <td>T's Restaurant Tantanmen</td>\n",
       "      <td>Cup</td>\n",
       "      <td>Japan</td>\n",
       "      <td>3.75</td>\n",
       "    </tr>\n",
       "    <tr>\n",
       "      <th>1</th>\n",
       "      <td>Just Way</td>\n",
       "      <td>Noodles Spicy Hot Sesame Spicy Hot Sesame Guan...</td>\n",
       "      <td>Pack</td>\n",
       "      <td>Taiwan</td>\n",
       "      <td>1.00</td>\n",
       "    </tr>\n",
       "    <tr>\n",
       "      <th>2</th>\n",
       "      <td>Nissin</td>\n",
       "      <td>Cup Noodles Chicken Vegetable</td>\n",
       "      <td>Cup</td>\n",
       "      <td>USA</td>\n",
       "      <td>2.25</td>\n",
       "    </tr>\n",
       "    <tr>\n",
       "      <th>3</th>\n",
       "      <td>Wei Lih</td>\n",
       "      <td>GGE Ramen Snack Tomato Flavor</td>\n",
       "      <td>Pack</td>\n",
       "      <td>Taiwan</td>\n",
       "      <td>2.75</td>\n",
       "    </tr>\n",
       "    <tr>\n",
       "      <th>4</th>\n",
       "      <td>Ching's Secret</td>\n",
       "      <td>Singapore Curry</td>\n",
       "      <td>Pack</td>\n",
       "      <td>India</td>\n",
       "      <td>3.75</td>\n",
       "    </tr>\n",
       "  </tbody>\n",
       "</table>\n",
       "</div>"
      ],
      "text/plain": [
       "            Brand                                            Variety Style  \\\n",
       "0       New Touch                          T's Restaurant Tantanmen    Cup   \n",
       "1        Just Way  Noodles Spicy Hot Sesame Spicy Hot Sesame Guan...  Pack   \n",
       "2          Nissin                      Cup Noodles Chicken Vegetable   Cup   \n",
       "3         Wei Lih                      GGE Ramen Snack Tomato Flavor  Pack   \n",
       "4  Ching's Secret                                    Singapore Curry  Pack   \n",
       "\n",
       "  Country  Stars  \n",
       "0   Japan   3.75  \n",
       "1  Taiwan   1.00  \n",
       "2     USA   2.25  \n",
       "3  Taiwan   2.75  \n",
       "4   India   3.75  "
      ]
     },
     "execution_count": 5,
     "metadata": {},
     "output_type": "execute_result"
    }
   ],
   "source": [
    "df = pd.read_csv('ramen-ratings.csv')\n",
    "df.head()"
   ]
  },
  {
   "cell_type": "code",
   "execution_count": 100,
   "id": "221b9e7b-9a8d-41df-9047-822e8153d2f1",
   "metadata": {},
   "outputs": [
    {
     "name": "stdout",
     "output_type": "stream",
     "text": [
      "            Brand                                            Variety Style  \\\n",
      "0       New Touch                          T's Restaurant Tantanmen    Cup   \n",
      "1        Just Way  Noodles Spicy Hot Sesame Spicy Hot Sesame Guan...  Pack   \n",
      "2          Nissin                      Cup Noodles Chicken Vegetable   Cup   \n",
      "3         Wei Lih                      GGE Ramen Snack Tomato Flavor  Pack   \n",
      "4  Ching's Secret                                    Singapore Curry  Pack   \n",
      "\n",
      "  Country  Stars  \n",
      "0   Japan   3.75  \n",
      "1  Taiwan   1.00  \n",
      "2     USA   2.25  \n",
      "3  Taiwan   2.75  \n",
      "4   India   3.75  \n"
     ]
    }
   ],
   "source": [
    "df_first_5 = df.head(5)\n",
    "print(df_first_5)"
   ]
  },
  {
   "cell_type": "code",
   "execution_count": 104,
   "id": "6a5ffd47-576a-40ac-8fe8-3cf2b39eaedf",
   "metadata": {},
   "outputs": [
    {
     "name": "stdout",
     "output_type": "stream",
     "text": [
      "         Brand                                            Variety Style  \\\n",
      "2572     Vifon  Hu Tiu Nam Vang [\"Phnom Penh\" style] Asian Sty...  Bowl   \n",
      "2573   Wai Wai                     Oriental Style Instant Noodles  Pack   \n",
      "2574   Wai Wai                                     Tom Yum Shrimp  Pack   \n",
      "2575   Wai Wai                               Tom Yum Chili Flavor  Pack   \n",
      "2576  Westbrae                                         Miso Ramen  Pack   \n",
      "\n",
      "       Country  Stars  \n",
      "2572   Vietnam    3.5  \n",
      "2573  Thailand    1.0  \n",
      "2574  Thailand    2.0  \n",
      "2575  Thailand    2.0  \n",
      "2576       USA    0.5  \n"
     ]
    }
   ],
   "source": [
    "df_last_5 = df.tail(5)\n",
    "print(df_last_5)"
   ]
  },
  {
   "cell_type": "code",
   "execution_count": 106,
   "id": "2ca3e3e2-7cfa-462d-b923-61e753f0c9eb",
   "metadata": {},
   "outputs": [
    {
     "name": "stdout",
     "output_type": "stream",
     "text": [
      "             Stars\n",
      "count  2577.000000\n",
      "mean      3.654676\n",
      "std       1.015331\n",
      "min       0.000000\n",
      "25%       3.250000\n",
      "50%       3.750000\n",
      "75%       4.250000\n",
      "max       5.000000\n"
     ]
    }
   ],
   "source": [
    "df_statistics = df.describe()\n",
    "print(df_statistics)"
   ]
  },
  {
   "cell_type": "code",
   "execution_count": 146,
   "id": "69103578-c7a9-4724-a06a-60bd281953c3",
   "metadata": {},
   "outputs": [
    {
     "name": "stdout",
     "output_type": "stream",
     "text": [
      "['New Touch' 'Just Way' 'Nissin' 'Wei Lih' \"Ching's Secret\"\n",
      " 'Samyang Foods' 'Acecook' 'Ikeda Shoku' \"Ripe'n'Dry\" 'KOKA' 'Tao Kae Noi'\n",
      " 'Yamachan' 'Nongshim' 'TRDP' 'Binh Tay' 'Paldo' 'Jackpot Teriyaki'\n",
      " 'Yum-Mie' 'MyKuali' 'Sichuan Guangyou' 'Lipton' 'Lele' 'Fujiwara'\n",
      " 'Uni-President' 'Ottogi' 'Maruchan' 'Prima' 'Sokensha' 'Takamori'\n",
      " 'Guava Story' 'Samurai Ramen' 'Ogasawara' 'Pringles' \"Mom's Dry Noodle\"\n",
      " 'Maggi' 'Indomie' 'Happy Cook' 'The Ramen Rater Select' 'TTL' 'E-Zee'\n",
      " 'Kiki Noodle' 'Tokyo Noodle' 'GGE' 'Myojo' 'Sau Tao' 'Wang' 'Daifuku'\n",
      " 'Master Kong' \"World O' Noodle\" 'Kang Shi Fu' 'Mum Ngon' 'Fashion Food'\n",
      " 'Dream Kitchen' 'Ajinatori' \"Dr. McDougall's\" 'Ve Wong' 'Super Bihun'\n",
      " 'Xiuhe' 'Little Cook' 'Shirakiku' \"Mama Pat's\" 'Goku-Uma'\n",
      " 'Sichuan Baijia' 'Liang Cheng Mai' 'Gefen' 'Hua Feng' 'Pulmuone'\n",
      " 'Liu Quan' 'Daikoku' 'Chuan Wei Wang' 'Wai Wai' 'Kamfen' 'Marutai'\n",
      " 'Vifon' '1 To 3 Noodles' 'Fantastic' 'Knorr' 'Sempio' 'Patanjali'\n",
      " 'Qin Zong' 'Pran' 'Sapporo Ichiban' 'MAMA' 'Xiao Ban Mian' 'Suimin'\n",
      " 'Cintan' 'JML' 'Unif Tung-I' 'Tablemark' \"Farmer's Heart\" 'Fuku'\n",
      " 'Singa-Me' 'Love Cook' 'Great Value' 'Asian Thai Foods' 'Nagatanien'\n",
      " 'Nyor Nyar' 'Tseng Noodles' 'A-Sha Dry Noodle' 'Morre' 'Roland'\n",
      " \"Mr. Lee's Noodles\" 'Choumama' 'President Rice' 'Happy Family' 'Menraku'\n",
      " 'La Moderna' 'Jingqi' 'Thien Houng Foods' 'Doll' 'Four Seas' 'CarJEN'\n",
      " '7 Select' 'Oni Hot Pot' 'Weh Lih' 'Itomen' 'Sanpo' 'Mi Sedaap'\n",
      " 'Tokushima Seifun' 'Mamee' 'Zow Zow' 'Koyo' 'ORee Garden' 'A1' 'Migawon'\n",
      " \"Chaudhary's Wai Wai\" 'Urban Noodle' 'Trident' 'Conimex' 'Prima Taste'\n",
      " 'MyOri' 'Itsuki' 'Kabuto Noodles' 'IbuRamen' 'Koh Thai' 'Bamee' 'Ibumie'\n",
      " 'Unox' 'Fortune' 'Bonasia' 'Mie Sedaap' 'iMee' 'Thai Smile' 'Asia Gold'\n",
      " 'Pirkka' 'Higashimaru' 'Kuriki' 'Vedan' 'Yum Yum' 'Mama' 'Baijia' 'Daraz'\n",
      " 'Pama' 'Seven & I' 'Forest Noodles' \"Vit's\" 'Ten-In' 'Sugakiya Foods'\n",
      " 'Hao Way' 'Nakaya Shouten' 'Thai Chef' 'Crystal Noodle' 'Azami' 'Super'\n",
      " 'Torishi' 'Western Family' 'Chering Chang' 'Ishimaru'\n",
      " 'Authentically Asian' 'Aroi' 'Koka' 'Wu-Mu' 'Yamadai' 'Vina Acecook'\n",
      " 'Baixiang Noodles' 'Salam Mie' 'Lee Fah Mee' 'Sakurai Foods'\n",
      " 'The Kitchen Food' 'Premiere' '7 Select/Nissin' 'Wugudaochang' 'Emart'\n",
      " 'Lishan Food Manufacturing' 'Ah Lai' 'Tropicana Slim' 'A-One' 'Deshome'\n",
      " 'Paldo Vina' 'Chencun' 'United' 'ChoripDong' 'Shan' 'Ruski' 'No Name'\n",
      " 'New Way' 'Lucky Me!' \"Campbell's\" 'One Dish Asia' 'Long Jun Hang'\n",
      " 'Unif-100' 'Hankow' 'The Bridge' 'Mitoku' 'Unzen' 'Uncle Sun' 'Mi E-Zee'\n",
      " 'E-mi' 'J.J.' 'Curry Prince' 'Econsave' 'Oyatsu' 'Kin-Dee' 'Ko-Lee' 'ICA'\n",
      " 'Nanyang Chef' 'Thai Pavilion' 'Miliket' 'Katoz' 'Men-Sunaoshi' 'Chewy'\n",
      " 'Adabi' 'Osaka Ramen' \"Sainsbury's\" 'Pamana' \"Annie Chun's\" 'La Fonte'\n",
      " 'Thai Choice' 'Tesco' 'Pop Bihun' 'Snapdragon' 'Saji' 'Miracle Noodle'\n",
      " 'Tiger Tiger' 'Takamori Kosan' 'Papa' 'Sawadee' 'Golden Wheat'\n",
      " 'Lotus Foods' 'Plats Du Chef' 'Batchelors' 'Sakura Noodle' 'Unif'\n",
      " 'Hi-Myon' 'Healtimie' 'Thai Kitchen' 'Mr. Noodles' 'Good Tto Leu Foods'\n",
      " 'GaGa' 'Kimura' 'Tokachimen Koubou' 'ABC' 'Eat & Go' 'President'\n",
      " 'SuperMi' 'Kumamoto' 'HoMyeonDang' 'Nan Jie Cun' 'China Best' 'Sanrio'\n",
      " 'Peyang' 'Golden Wonder' 'Komforte Chockolates' 'Nagao Noodle' 'Maitri'\n",
      " 'GS25' 'Baltix' 'Amianda' 'Tasty Bite' 'Star Anise Foods' 'Tradition'\n",
      " 'Amino' 'Pot Noodle' 'Sun Noodle' 'S&S' 'Springlife' 'Right Foods'\n",
      " 'Sunlee' 'Goku Uma' 'Daddy' \"Han's South Korea\" 'Sarimi' 'FMF' 'Long Kow'\n",
      " 'Unif / Tung-I' 'Song Hak' 'Fuji Mengyo' 'Dragonfly' 'CJ CheilJedang'\n",
      " 'Dongwon' 'Seven-Eleven' 'Souper' \"Kim's Bowl\" 'Ohsung' 'Gau Do'\n",
      " 'Golden Mie' 'GreeNoodle' 'Kailo' 'Fashion Foods' 'Hosoonyi' 'Payless'\n",
      " 'Yamamoto' 'Saigon Ve Wong' 'Wu Mu' 'Mee Jang' 'JFC' 'Samyang' 'Mug Shot'\n",
      " 'Lishan' 'Cap Atoom Bulan' 'Sura' 'Wei Chuan' 'Yamamori' 'Mr. Udon'\n",
      " 'Omachi' 'Wei Wei' 'Six Fortune' 'Haioreum' 'Sunlight' 'Noah Foods'\n",
      " 'O Sung' 'Foodmon' 'Sahmyook' 'Nan Hsing' 'Mexi-Ramen' 'Hsin Tung Yang'\n",
      " 'Sao Tao' 'iNoodle' 'Quickchow' 'Chikara' 'Q' 'Noodle Time' 'Gomex'\n",
      " 'US Canning' 'Rhee Bros Assi' 'Bon Go Jang' 'Tayho' 'Sunny Maid'\n",
      " 'Royal Umbrella' 'Tiger' 'Fu Chang Chinese Noodle Company' 'Sanyo Foods'\n",
      " 'Rocket Brand' 'Boss' 'Chorip Dong' 'Higashi' 'Sakurai'\n",
      " 'Global Inspiration' 'Teriyaki Time' 'Hua Feng Noodle Expert'\n",
      " 'Kim Ve Wong' 'Smack' 'Sutah' 'Tung-I' 'Westbrae']\n",
      "[\"T's Restaurant Tantanmen \"\n",
      " 'Noodles Spicy Hot Sesame Spicy Hot Sesame Guan-miao Noodles'\n",
      " 'Cup Noodles Chicken Vegetable' ...\n",
      " 'Hu Tiu Nam Vang [\"Phnom Penh\" style] Asian Style Instant\\xa0Rice\\xa0Noodles'\n",
      " 'Oriental Style Instant Noodles' 'Tom Yum Chili Flavor']\n",
      "['Cup' 'Pack' 'Tray' 'Bowl' 'Box' 'Can' 'Bar' nan]\n",
      "['Japan' 'Taiwan' 'USA' 'India' 'South Korea' 'Singapore' 'Thailand'\n",
      " 'Hong Kong' 'Vietnam' 'Ghana' 'Malaysia' 'Indonesia' 'China' 'Nigeria'\n",
      " 'Germany' 'Hungary' 'Mexico' 'Fiji' 'Australia' 'Pakistan' 'Bangladesh'\n",
      " 'Canada' 'Nepal' 'Brazil' 'UK' 'Myanmar' 'Netherlands' 'United States'\n",
      " 'Cambodia' 'Finland' 'Sarawak' 'Philippines' 'Sweden' 'Colombia'\n",
      " 'Estonia' 'Holland' 'Poland' 'Dubai']\n",
      "[3.75  1.    2.25  2.75  4.75  4.    0.25  2.5   5.    4.25  4.5   3.5\n",
      " 1.5   3.25  2.    0.    3.    0.5   3.8   4.3   2.3   3.3   1.75  0.75\n",
      " 1.25  1.1   2.1   0.9   3.1   4.125 3.125 2.125 2.9   0.1   2.8   3.7\n",
      " 3.4   3.6   2.85  3.2   3.65  1.8  ]\n"
     ]
    }
   ],
   "source": [
    "for col in df:\n",
    "    print(df[col].unique())"
   ]
  },
  {
   "cell_type": "code",
   "execution_count": 152,
   "id": "99988f0f-629d-4650-958d-82c67bd06011",
   "metadata": {},
   "outputs": [
    {
     "name": "stdout",
     "output_type": "stream",
     "text": [
      "              Brand                                            Variety Style  \\\n",
      "18         Binh Tay                                         Mi Hai Cua  Pack   \n",
      "52    Uni-President                                    Mushroom Flavor  Pack   \n",
      "143        Mum Ngon                                   Lau Tom Chua Cay  Pack   \n",
      "224           Vifon  Viet Cuisine Bun Rieu Cua Sour Crab Soup Insta...  Bowl   \n",
      "365         Acecook                             Oh! Ricey Pork Flavour  Pack   \n",
      "...             ...                                                ...   ...   \n",
      "2486       Binh Tay                                   Mi Chay Mushroom  Pack   \n",
      "2535        Ve Wong                             Kung-Fu Chicken Flavor  Pack   \n",
      "2570        Ve Wong                                      Mushroom Pork  Pack   \n",
      "2571          Vifon                                           Nam Vang  Pack   \n",
      "2572          Vifon  Hu Tiu Nam Vang [\"Phnom Penh\" style] Asian Sty...  Bowl   \n",
      "\n",
      "      Country  Stars  \n",
      "18    Vietnam   4.00  \n",
      "52    Vietnam   0.00  \n",
      "143   Vietnam   3.50  \n",
      "224   Vietnam   5.00  \n",
      "365   Vietnam   4.00  \n",
      "...       ...    ...  \n",
      "2486  Vietnam   2.75  \n",
      "2535  Vietnam   2.75  \n",
      "2570  Vietnam   1.00  \n",
      "2571  Vietnam   2.50  \n",
      "2572  Vietnam   3.50  \n",
      "\n",
      "[108 rows x 5 columns]\n"
     ]
    }
   ],
   "source": [
    "df_vietnam = df.query('Country == \"Vietnam\"')\n",
    "print(df_vietnam)"
   ]
  },
  {
   "cell_type": "code",
   "execution_count": 170,
   "id": "0eacb336-5aa6-4881-a444-d99b0ae18edb",
   "metadata": {},
   "outputs": [
    {
     "data": {
      "text/html": [
       "<div>\n",
       "<style scoped>\n",
       "    .dataframe tbody tr th:only-of-type {\n",
       "        vertical-align: middle;\n",
       "    }\n",
       "\n",
       "    .dataframe tbody tr th {\n",
       "        vertical-align: top;\n",
       "    }\n",
       "\n",
       "    .dataframe thead th {\n",
       "        text-align: right;\n",
       "    }\n",
       "</style>\n",
       "<table border=\"1\" class=\"dataframe\">\n",
       "  <thead>\n",
       "    <tr style=\"text-align: Brand;\">\n",
       "      <th></th>\n",
       "      <th>Brand</th>\n",
       "      <th>Style</th>\n",
       "    </tr>\n",
       "  </thead>\n",
       "  <tbody>\n",
       "    <tr>\n",
       "      <th>0</th>\n",
       "      <td>New Touch</td>\n",
       "      <td>Cup</td>\n",
       "    </tr>\n",
       "    <tr>\n",
       "      <th>1</th>\n",
       "      <td>Just Way</td>\n",
       "      <td>Pack</td>\n",
       "    </tr>\n",
       "    <tr>\n",
       "      <th>2</th>\n",
       "      <td>Nissin</td>\n",
       "      <td>Cup</td>\n",
       "    </tr>\n",
       "    <tr>\n",
       "      <th>3</th>\n",
       "      <td>Wei Lih</td>\n",
       "      <td>Pack</td>\n",
       "    </tr>\n",
       "    <tr>\n",
       "      <th>4</th>\n",
       "      <td>Ching's Secret</td>\n",
       "      <td>Pack</td>\n",
       "    </tr>\n",
       "    <tr>\n",
       "      <th>...</th>\n",
       "      <td>...</td>\n",
       "      <td>...</td>\n",
       "    </tr>\n",
       "    <tr>\n",
       "      <th>2572</th>\n",
       "      <td>Vifon</td>\n",
       "      <td>Bowl</td>\n",
       "    </tr>\n",
       "    <tr>\n",
       "      <th>2573</th>\n",
       "      <td>Wai Wai</td>\n",
       "      <td>Pack</td>\n",
       "    </tr>\n",
       "    <tr>\n",
       "      <th>2574</th>\n",
       "      <td>Wai Wai</td>\n",
       "      <td>Pack</td>\n",
       "    </tr>\n",
       "    <tr>\n",
       "      <th>2575</th>\n",
       "      <td>Wai Wai</td>\n",
       "      <td>Pack</td>\n",
       "    </tr>\n",
       "    <tr>\n",
       "      <th>2576</th>\n",
       "      <td>Westbrae</td>\n",
       "      <td>Pack</td>\n",
       "    </tr>\n",
       "  </tbody>\n",
       "</table>\n",
       "<p>2577 rows × 2 columns</p>\n",
       "</div>"
      ],
      "text/plain": [
       "               Brand Style\n",
       "0          New Touch   Cup\n",
       "1           Just Way  Pack\n",
       "2             Nissin   Cup\n",
       "3            Wei Lih  Pack\n",
       "4     Ching's Secret  Pack\n",
       "...              ...   ...\n",
       "2572           Vifon  Bowl\n",
       "2573         Wai Wai  Pack\n",
       "2574         Wai Wai  Pack\n",
       "2575         Wai Wai  Pack\n",
       "2576        Westbrae  Pack\n",
       "\n",
       "[2577 rows x 2 columns]"
      ]
     },
     "execution_count": 170,
     "metadata": {},
     "output_type": "execute_result"
    }
   ],
   "source": [
    "df[[\"Brand\", \"Style\"]] "
   ]
  },
  {
   "cell_type": "code",
   "execution_count": 182,
   "id": "7cb646d4-f5c4-4945-81ae-44b2eec4c67f",
   "metadata": {},
   "outputs": [
    {
     "data": {
      "text/plain": [
       "0          Japan\n",
       "1         Taiwan\n",
       "2            USA\n",
       "3         Taiwan\n",
       "4          India\n",
       "          ...   \n",
       "2572     Vietnam\n",
       "2573    Thailand\n",
       "2574    Thailand\n",
       "2575    Thailand\n",
       "2576         USA\n",
       "Name: Country, Length: 2577, dtype: object"
      ]
     },
     "execution_count": 182,
     "metadata": {},
     "output_type": "execute_result"
    }
   ],
   "source": [
    "df['Country']"
   ]
  },
  {
   "cell_type": "code",
   "execution_count": 188,
   "id": "b5f6314a-b4c4-4a3b-8b9e-43b0a5d783af",
   "metadata": {},
   "outputs": [
    {
     "data": {
      "text/html": [
       "<div>\n",
       "<style scoped>\n",
       "    .dataframe tbody tr th:only-of-type {\n",
       "        vertical-align: middle;\n",
       "    }\n",
       "\n",
       "    .dataframe tbody tr th {\n",
       "        vertical-align: top;\n",
       "    }\n",
       "\n",
       "    .dataframe thead th {\n",
       "        text-align: right;\n",
       "    }\n",
       "</style>\n",
       "<table border=\"1\" class=\"dataframe\">\n",
       "  <thead>\n",
       "    <tr style=\"text-align: Brand;\">\n",
       "      <th></th>\n",
       "      <th>Brand</th>\n",
       "      <th>Variety</th>\n",
       "      <th>Style</th>\n",
       "      <th>Country</th>\n",
       "      <th>Stars</th>\n",
       "    </tr>\n",
       "  </thead>\n",
       "  <tbody>\n",
       "    <tr>\n",
       "      <th>1585</th>\n",
       "      <td>Prima Taste</td>\n",
       "      <td>Singapore Laksa La Mian</td>\n",
       "      <td>Pack</td>\n",
       "      <td>Singapore</td>\n",
       "      <td>5.0</td>\n",
       "    </tr>\n",
       "    <tr>\n",
       "      <th>446</th>\n",
       "      <td>Maruchan</td>\n",
       "      <td>Instant Lunch Chipotle Chicken Flavor Ramen No...</td>\n",
       "      <td>Cup</td>\n",
       "      <td>USA</td>\n",
       "      <td>5.0</td>\n",
       "    </tr>\n",
       "    <tr>\n",
       "      <th>484</th>\n",
       "      <td>Nongshim</td>\n",
       "      <td>Champong Noodle Soup Spicy Seafood Flavor</td>\n",
       "      <td>Pack</td>\n",
       "      <td>South Korea</td>\n",
       "      <td>5.0</td>\n",
       "    </tr>\n",
       "    <tr>\n",
       "      <th>483</th>\n",
       "      <td>Nissin</td>\n",
       "      <td>Straits Kitchen Laksa</td>\n",
       "      <td>Pack</td>\n",
       "      <td>Singapore</td>\n",
       "      <td>5.0</td>\n",
       "    </tr>\n",
       "    <tr>\n",
       "      <th>1613</th>\n",
       "      <td>Nissin</td>\n",
       "      <td>Raoh Backfat Rich Soy Sauce Flavor</td>\n",
       "      <td>Bowl</td>\n",
       "      <td>Japan</td>\n",
       "      <td>5.0</td>\n",
       "    </tr>\n",
       "    <tr>\n",
       "      <th>...</th>\n",
       "      <td>...</td>\n",
       "      <td>...</td>\n",
       "      <td>...</td>\n",
       "      <td>...</td>\n",
       "      <td>...</td>\n",
       "    </tr>\n",
       "    <tr>\n",
       "      <th>522</th>\n",
       "      <td>Koyo</td>\n",
       "      <td>Garlic Pepper Reduced Sodium Ramen</td>\n",
       "      <td>Pack</td>\n",
       "      <td>USA</td>\n",
       "      <td>0.0</td>\n",
       "    </tr>\n",
       "    <tr>\n",
       "      <th>561</th>\n",
       "      <td>Samyang Foods</td>\n",
       "      <td>Honey &amp; Cheese Big Bowl</td>\n",
       "      <td>Bowl</td>\n",
       "      <td>South Korea</td>\n",
       "      <td>0.0</td>\n",
       "    </tr>\n",
       "    <tr>\n",
       "      <th>950</th>\n",
       "      <td>Azami</td>\n",
       "      <td>Kimchee Noodle Soup</td>\n",
       "      <td>Cup</td>\n",
       "      <td>Canada</td>\n",
       "      <td>0.0</td>\n",
       "    </tr>\n",
       "    <tr>\n",
       "      <th>2079</th>\n",
       "      <td>Hsin Tung Yang</td>\n",
       "      <td>Tiny Noodle With Oyster Flavor</td>\n",
       "      <td>Pack</td>\n",
       "      <td>Taiwan</td>\n",
       "      <td>0.0</td>\n",
       "    </tr>\n",
       "    <tr>\n",
       "      <th>52</th>\n",
       "      <td>Uni-President</td>\n",
       "      <td>Mushroom Flavor</td>\n",
       "      <td>Pack</td>\n",
       "      <td>Vietnam</td>\n",
       "      <td>0.0</td>\n",
       "    </tr>\n",
       "  </tbody>\n",
       "</table>\n",
       "<p>2577 rows × 5 columns</p>\n",
       "</div>"
      ],
      "text/plain": [
       "               Brand                                            Variety Style  \\\n",
       "1585     Prima Taste                            Singapore Laksa La Mian  Pack   \n",
       "446         Maruchan  Instant Lunch Chipotle Chicken Flavor Ramen No...   Cup   \n",
       "484         Nongshim          Champong Noodle Soup Spicy Seafood Flavor  Pack   \n",
       "483           Nissin                              Straits Kitchen Laksa  Pack   \n",
       "1613          Nissin                 Raoh Backfat Rich Soy Sauce Flavor  Bowl   \n",
       "...              ...                                                ...   ...   \n",
       "522             Koyo                 Garlic Pepper Reduced Sodium Ramen  Pack   \n",
       "561    Samyang Foods                            Honey & Cheese Big Bowl  Bowl   \n",
       "950            Azami                                Kimchee Noodle Soup   Cup   \n",
       "2079  Hsin Tung Yang                     Tiny Noodle With Oyster Flavor  Pack   \n",
       "52     Uni-President                                    Mushroom Flavor  Pack   \n",
       "\n",
       "          Country  Stars  \n",
       "1585    Singapore    5.0  \n",
       "446           USA    5.0  \n",
       "484   South Korea    5.0  \n",
       "483     Singapore    5.0  \n",
       "1613        Japan    5.0  \n",
       "...           ...    ...  \n",
       "522           USA    0.0  \n",
       "561   South Korea    0.0  \n",
       "950        Canada    0.0  \n",
       "2079       Taiwan    0.0  \n",
       "52        Vietnam    0.0  \n",
       "\n",
       "[2577 rows x 5 columns]"
      ]
     },
     "execution_count": 188,
     "metadata": {},
     "output_type": "execute_result"
    }
   ],
   "source": [
    "df.sort_values(by='Stars', ascending=False)"
   ]
  },
  {
   "cell_type": "code",
   "execution_count": 220,
   "id": "97f3b0da-d127-4ed2-b770-24e7b68e4483",
   "metadata": {},
   "outputs": [
    {
     "data": {
      "text/plain": [
       "0               Japan\n",
       "1              Taiwan\n",
       "2       United States\n",
       "3              Taiwan\n",
       "4               India\n",
       "            ...      \n",
       "2572          Vietnam\n",
       "2573         Thailand\n",
       "2574         Thailand\n",
       "2575         Thailand\n",
       "2576    United States\n",
       "Name: Country, Length: 2577, dtype: object"
      ]
     },
     "execution_count": 220,
     "metadata": {},
     "output_type": "execute_result"
    }
   ],
   "source": [
    "df['Country'].str.replace('USA', 'United States')"
   ]
  },
  {
   "cell_type": "code",
   "execution_count": 222,
   "id": "0009742d-0ab8-4cfd-926d-9f694f60868c",
   "metadata": {},
   "outputs": [
    {
     "name": "stdout",
     "output_type": "stream",
     "text": [
      "            Brand                                            Variety Style  \\\n",
      "0       New Touch                          T's Restaurant Tantanmen    Cup   \n",
      "1        Just Way  Noodles Spicy Hot Sesame Spicy Hot Sesame Guan...  Pack   \n",
      "2          Nissin                      Cup Noodles Chicken Vegetable   Cup   \n",
      "3         Wei Lih                      GGE Ramen Snack Tomato Flavor  Pack   \n",
      "4  Ching's Secret                                    Singapore Curry  Pack   \n",
      "\n",
      "         Country  Stars  \n",
      "0          Japan   3.75  \n",
      "1         Taiwan   1.00  \n",
      "2  United States   2.25  \n",
      "3         Taiwan   2.75  \n",
      "4          India   3.75  \n"
     ]
    }
   ],
   "source": [
    "df_first_5 = df.head(5)\n",
    "print(df_first_5)"
   ]
  },
  {
   "cell_type": "code",
   "execution_count": 272,
   "id": "67c937d2-4bb0-4bbb-88a7-6fb225b28c50",
   "metadata": {},
   "outputs": [
    {
     "data": {
      "text/plain": [
       "Country    2577\n",
       "dtype: int64"
      ]
     },
     "execution_count": 272,
     "metadata": {},
     "output_type": "execute_result"
    }
   ],
   "source": [
    "df[['Country']].count()"
   ]
  },
  {
   "cell_type": "code",
   "execution_count": 274,
   "id": "c1bf2ab8-f1a1-47cb-9ed7-a4d1130ece53",
   "metadata": {},
   "outputs": [
    {
     "data": {
      "text/plain": [
       "Country\n",
       "Japan            352\n",
       "United States    324\n",
       "South Korea      307\n",
       "Taiwan           224\n",
       "Thailand         191\n",
       "China            169\n",
       "Malaysia         155\n",
       "Hong Kong        137\n",
       "Indonesia        126\n",
       "Singapore        109\n",
       "Vietnam          108\n",
       "UK                69\n",
       "Philippines       47\n",
       "Canada            41\n",
       "India             31\n",
       "Germany           27\n",
       "Mexico            25\n",
       "Australia         22\n",
       "Netherlands       15\n",
       "Nepal             14\n",
       "Myanmar           14\n",
       "Hungary            9\n",
       "Pakistan           9\n",
       "Bangladesh         7\n",
       "Colombia           6\n",
       "Cambodia           5\n",
       "Brazil             5\n",
       "Poland             4\n",
       "Holland            4\n",
       "Fiji               4\n",
       "Sweden             3\n",
       "Sarawak            3\n",
       "Finland            3\n",
       "Dubai              3\n",
       "Ghana              2\n",
       "Estonia            2\n",
       "Nigeria            1\n",
       "Name: count, dtype: int64"
      ]
     },
     "execution_count": 274,
     "metadata": {},
     "output_type": "execute_result"
    }
   ],
   "source": [
    "df['Country'].value_counts()"
   ]
  },
  {
   "cell_type": "code",
   "execution_count": 469,
   "id": "256eba03-5fbd-4086-a44d-23d97c5a5980",
   "metadata": {},
   "outputs": [
    {
     "ename": "SyntaxError",
     "evalue": "invalid syntax (4013788972.py, line 2)",
     "output_type": "error",
     "traceback": [
      "\u001b[1;36m  Cell \u001b[1;32mIn[469], line 2\u001b[1;36m\u001b[0m\n\u001b[1;33m    .groupby('Country')\u001b[0m\n\u001b[1;37m    ^\u001b[0m\n\u001b[1;31mSyntaxError\u001b[0m\u001b[1;31m:\u001b[0m invalid syntax\n"
     ]
    }
   ],
   "source": [
    "df = pd.DataFrame_long(\n",
    "    .groupby('Stars').agg(np.mean) \n",
    "    .sort_values(by='Country', ascending=False)\n",
    "     )\n",
    "    head(df, 3)"
   ]
  },
  {
   "cell_type": "code",
   "execution_count": 453,
   "id": "3b9806f8-7e41-484e-ae6f-4ee0503bf838",
   "metadata": {},
   "outputs": [
    {
     "ename": "SyntaxError",
     "evalue": "invalid syntax (3133028175.py, line 2)",
     "output_type": "error",
     "traceback": [
      "\u001b[1;36m  Cell \u001b[1;32mIn[453], line 2\u001b[1;36m\u001b[0m\n\u001b[1;33m    .groupby('Stars').agg(pd.mean)\u001b[0m\n\u001b[1;37m    ^\u001b[0m\n\u001b[1;31mSyntaxError\u001b[0m\u001b[1;31m:\u001b[0m invalid syntax\n"
     ]
    }
   ],
   "source": [
    "df = pd.DataFrame_long(\n",
    "    .groupby('Stars').agg(pd.mean) \n",
    "    .sort_values(by='Country', ascending=[False])\n",
    "     )\n",
    "    tail(df, 3)"
   ]
  },
  {
   "cell_type": "code",
   "execution_count": 1,
   "id": "79c893c0-4725-4db8-bfce-c74b63afc253",
   "metadata": {},
   "outputs": [
    {
     "ename": "SyntaxError",
     "evalue": "invalid syntax (1071701395.py, line 2)",
     "output_type": "error",
     "traceback": [
      "\u001b[1;36m  Cell \u001b[1;32mIn[1], line 2\u001b[1;36m\u001b[0m\n\u001b[1;33m    .groupby('Stars').agg(pd.mean)\u001b[0m\n\u001b[1;37m    ^\u001b[0m\n\u001b[1;31mSyntaxError\u001b[0m\u001b[1;31m:\u001b[0m invalid syntax\n"
     ]
    }
   ],
   "source": [
    "df = pd.DataFrame_long(\n",
    "    .groupby('Stars').agg(pd.mean) \n",
    "    .sort_values(by='Country', ascending=[False])\n",
    "     )\n",
    "    tail(df, 3)\n",
    "%%time"
   ]
  },
  {
   "cell_type": "code",
   "execution_count": null,
   "id": "b5d84bf4-b0cf-4875-83c3-394045166166",
   "metadata": {},
   "outputs": [],
   "source": []
  }
 ],
 "metadata": {
  "kernelspec": {
   "display_name": "Python [conda env:base] *",
   "language": "python",
   "name": "conda-base-py"
  },
  "language_info": {
   "codemirror_mode": {
    "name": "ipython",
    "version": 3
   },
   "file_extension": ".py",
   "mimetype": "text/x-python",
   "name": "python",
   "nbconvert_exporter": "python",
   "pygments_lexer": "ipython3",
   "version": "3.12.7"
  }
 },
 "nbformat": 4,
 "nbformat_minor": 5
}
